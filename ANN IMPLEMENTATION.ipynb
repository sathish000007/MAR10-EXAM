{
 "cells": [
  {
   "cell_type": "code",
   "execution_count": 1,
   "id": "d5877562",
   "metadata": {},
   "outputs": [
    {
     "name": "stderr",
     "output_type": "stream",
     "text": [
      "2024-03-10 12:18:08.440260: I external/local_tsl/tsl/cuda/cudart_stub.cc:31] Could not find cuda drivers on your machine, GPU will not be used.\n",
      "2024-03-10 12:18:08.489339: E external/local_xla/xla/stream_executor/cuda/cuda_dnn.cc:9261] Unable to register cuDNN factory: Attempting to register factory for plugin cuDNN when one has already been registered\n",
      "2024-03-10 12:18:08.489371: E external/local_xla/xla/stream_executor/cuda/cuda_fft.cc:607] Unable to register cuFFT factory: Attempting to register factory for plugin cuFFT when one has already been registered\n",
      "2024-03-10 12:18:08.490628: E external/local_xla/xla/stream_executor/cuda/cuda_blas.cc:1515] Unable to register cuBLAS factory: Attempting to register factory for plugin cuBLAS when one has already been registered\n",
      "2024-03-10 12:18:08.497653: I external/local_tsl/tsl/cuda/cudart_stub.cc:31] Could not find cuda drivers on your machine, GPU will not be used.\n",
      "2024-03-10 12:18:08.498050: I tensorflow/core/platform/cpu_feature_guard.cc:182] This TensorFlow binary is optimized to use available CPU instructions in performance-critical operations.\n",
      "To enable the following instructions: AVX2 FMA, in other operations, rebuild TensorFlow with the appropriate compiler flags.\n",
      "2024-03-10 12:18:09.778787: W tensorflow/compiler/tf2tensorrt/utils/py_utils.cc:38] TF-TRT Warning: Could not find TensorRT\n"
     ]
    }
   ],
   "source": [
    "import numpy as np\n",
    "from tensorflow.keras.datasets import boston_housing\n",
    "from tensorflow.keras.models import Sequential\n",
    "from tensorflow.keras.layers import Dense\n",
    "from sklearn.preprocessing import StandardScaler"
   ]
  },
  {
   "cell_type": "code",
   "execution_count": 2,
   "id": "56bc8b1c",
   "metadata": {},
   "outputs": [
    {
     "name": "stdout",
     "output_type": "stream",
     "text": [
      "Downloading data from https://storage.googleapis.com/tensorflow/tf-keras-datasets/boston_housing.npz\n",
      "57026/57026 [==============================] - 0s 1us/step\n"
     ]
    }
   ],
   "source": [
    "(x_train, y_train), (x_test, y_test) = boston_housing.load_data()\n"
   ]
  },
  {
   "cell_type": "code",
   "execution_count": 3,
   "id": "ca3f02e6",
   "metadata": {},
   "outputs": [],
   "source": [
    "scaler = StandardScaler()\n",
    "x_train = scaler.fit_transform(x_train)\n",
    "x_test = scaler.transform(x_test)"
   ]
  },
  {
   "cell_type": "code",
   "execution_count": 4,
   "id": "b5d5eea3",
   "metadata": {},
   "outputs": [],
   "source": [
    "y_scaler = StandardScaler()\n",
    "y_train = y_scaler.fit_transform(y_train.reshape(-1, 1)).reshape(-1)\n",
    "y_test = y_scaler.transform(y_test.reshape(-1, 1)).reshape(-1)\n"
   ]
  },
  {
   "cell_type": "code",
   "execution_count": 5,
   "id": "29834ece",
   "metadata": {},
   "outputs": [],
   "source": [
    "model = Sequential([\n",
    "    Dense(64, activation='relu', input_shape=(x_train.shape[1],)),\n",
    "    Dense(64, activation='relu'),\n",
    "    Dense(1)  # Output layer with 1 neuron for regression\n",
    "])\n"
   ]
  },
  {
   "cell_type": "code",
   "execution_count": 6,
   "id": "06d55312",
   "metadata": {},
   "outputs": [
    {
     "name": "stdout",
     "output_type": "stream",
     "text": [
      "Model: \"sequential\"\n",
      "_________________________________________________________________\n",
      " Layer (type)                Output Shape              Param #   \n",
      "=================================================================\n",
      " dense (Dense)               (None, 64)                896       \n",
      "                                                                 \n",
      " dense_1 (Dense)             (None, 64)                4160      \n",
      "                                                                 \n",
      " dense_2 (Dense)             (None, 1)                 65        \n",
      "                                                                 \n",
      "=================================================================\n",
      "Total params: 5121 (20.00 KB)\n",
      "Trainable params: 5121 (20.00 KB)\n",
      "Non-trainable params: 0 (0.00 Byte)\n",
      "_________________________________________________________________\n"
     ]
    }
   ],
   "source": [
    "model.summary()\n"
   ]
  },
  {
   "cell_type": "code",
   "execution_count": 7,
   "id": "9acd386e",
   "metadata": {},
   "outputs": [],
   "source": [
    "model.compile(optimizer='adam', loss='mse', metrics=['mae'])\n"
   ]
  },
  {
   "cell_type": "code",
   "execution_count": 8,
   "id": "e51c24d1",
   "metadata": {},
   "outputs": [
    {
     "name": "stdout",
     "output_type": "stream",
     "text": [
      "Epoch 1/50\n",
      "11/11 [==============================] - 1s 18ms/step - loss: 0.8527 - mae: 0.6406 - val_loss: 0.7425 - val_mae: 0.5572\n",
      "Epoch 2/50\n",
      "11/11 [==============================] - 0s 5ms/step - loss: 0.4871 - mae: 0.4792 - val_loss: 0.5506 - val_mae: 0.4914\n",
      "Epoch 3/50\n",
      "11/11 [==============================] - 0s 5ms/step - loss: 0.3405 - mae: 0.4039 - val_loss: 0.3938 - val_mae: 0.4284\n",
      "Epoch 4/50\n",
      "11/11 [==============================] - 0s 5ms/step - loss: 0.2487 - mae: 0.3471 - val_loss: 0.3196 - val_mae: 0.3918\n",
      "Epoch 5/50\n",
      "11/11 [==============================] - 0s 5ms/step - loss: 0.1999 - mae: 0.3068 - val_loss: 0.2726 - val_mae: 0.3572\n",
      "Epoch 6/50\n",
      "11/11 [==============================] - 0s 5ms/step - loss: 0.1752 - mae: 0.2854 - val_loss: 0.2622 - val_mae: 0.3469\n",
      "Epoch 7/50\n",
      "11/11 [==============================] - 0s 5ms/step - loss: 0.1533 - mae: 0.2659 - val_loss: 0.2536 - val_mae: 0.3469\n",
      "Epoch 8/50\n",
      "11/11 [==============================] - 0s 5ms/step - loss: 0.1405 - mae: 0.2505 - val_loss: 0.2403 - val_mae: 0.3419\n",
      "Epoch 9/50\n",
      "11/11 [==============================] - 0s 7ms/step - loss: 0.1284 - mae: 0.2439 - val_loss: 0.2400 - val_mae: 0.3390\n",
      "Epoch 10/50\n",
      "11/11 [==============================] - 0s 5ms/step - loss: 0.1235 - mae: 0.2410 - val_loss: 0.2309 - val_mae: 0.3297\n",
      "Epoch 11/50\n",
      "11/11 [==============================] - 0s 5ms/step - loss: 0.1158 - mae: 0.2262 - val_loss: 0.2270 - val_mae: 0.3239\n",
      "Epoch 12/50\n",
      "11/11 [==============================] - 0s 5ms/step - loss: 0.1076 - mae: 0.2186 - val_loss: 0.2268 - val_mae: 0.3239\n",
      "Epoch 13/50\n",
      "11/11 [==============================] - 0s 5ms/step - loss: 0.1051 - mae: 0.2224 - val_loss: 0.2262 - val_mae: 0.3202\n",
      "Epoch 14/50\n",
      "11/11 [==============================] - 0s 5ms/step - loss: 0.1008 - mae: 0.2121 - val_loss: 0.2348 - val_mae: 0.3217\n",
      "Epoch 15/50\n",
      "11/11 [==============================] - 0s 5ms/step - loss: 0.1029 - mae: 0.2206 - val_loss: 0.2266 - val_mae: 0.3224\n",
      "Epoch 16/50\n",
      "11/11 [==============================] - 0s 5ms/step - loss: 0.0920 - mae: 0.2051 - val_loss: 0.2189 - val_mae: 0.3084\n",
      "Epoch 17/50\n",
      "11/11 [==============================] - 0s 5ms/step - loss: 0.0876 - mae: 0.2040 - val_loss: 0.2136 - val_mae: 0.3123\n",
      "Epoch 18/50\n",
      "11/11 [==============================] - 0s 4ms/step - loss: 0.0919 - mae: 0.2048 - val_loss: 0.2231 - val_mae: 0.3110\n",
      "Epoch 19/50\n",
      "11/11 [==============================] - 0s 5ms/step - loss: 0.0924 - mae: 0.2169 - val_loss: 0.2203 - val_mae: 0.3163\n",
      "Epoch 20/50\n",
      "11/11 [==============================] - 0s 4ms/step - loss: 0.0891 - mae: 0.1974 - val_loss: 0.2138 - val_mae: 0.3065\n",
      "Epoch 21/50\n",
      "11/11 [==============================] - 0s 6ms/step - loss: 0.0794 - mae: 0.1968 - val_loss: 0.2056 - val_mae: 0.3023\n",
      "Epoch 22/50\n",
      "11/11 [==============================] - 0s 5ms/step - loss: 0.0771 - mae: 0.1875 - val_loss: 0.2050 - val_mae: 0.3034\n",
      "Epoch 23/50\n",
      "11/11 [==============================] - 0s 4ms/step - loss: 0.0751 - mae: 0.1896 - val_loss: 0.2010 - val_mae: 0.3035\n",
      "Epoch 24/50\n",
      "11/11 [==============================] - 0s 4ms/step - loss: 0.0721 - mae: 0.1818 - val_loss: 0.2099 - val_mae: 0.3040\n",
      "Epoch 25/50\n",
      "11/11 [==============================] - 0s 4ms/step - loss: 0.0785 - mae: 0.1994 - val_loss: 0.2094 - val_mae: 0.3093\n",
      "Epoch 26/50\n",
      "11/11 [==============================] - 0s 4ms/step - loss: 0.0766 - mae: 0.1876 - val_loss: 0.2098 - val_mae: 0.3125\n",
      "Epoch 27/50\n",
      "11/11 [==============================] - 0s 5ms/step - loss: 0.0704 - mae: 0.1830 - val_loss: 0.1894 - val_mae: 0.3038\n",
      "Epoch 28/50\n",
      "11/11 [==============================] - 0s 5ms/step - loss: 0.0664 - mae: 0.1757 - val_loss: 0.1924 - val_mae: 0.3006\n",
      "Epoch 29/50\n",
      "11/11 [==============================] - 0s 4ms/step - loss: 0.0639 - mae: 0.1733 - val_loss: 0.1924 - val_mae: 0.3005\n",
      "Epoch 30/50\n",
      "11/11 [==============================] - 0s 5ms/step - loss: 0.0642 - mae: 0.1711 - val_loss: 0.1930 - val_mae: 0.3014\n",
      "Epoch 31/50\n",
      "11/11 [==============================] - 0s 4ms/step - loss: 0.0633 - mae: 0.1733 - val_loss: 0.1848 - val_mae: 0.2961\n",
      "Epoch 32/50\n",
      "11/11 [==============================] - 0s 5ms/step - loss: 0.0619 - mae: 0.1725 - val_loss: 0.1875 - val_mae: 0.2973\n",
      "Epoch 33/50\n",
      "11/11 [==============================] - 0s 4ms/step - loss: 0.0598 - mae: 0.1666 - val_loss: 0.1870 - val_mae: 0.2943\n",
      "Epoch 34/50\n",
      "11/11 [==============================] - 0s 4ms/step - loss: 0.0577 - mae: 0.1636 - val_loss: 0.1784 - val_mae: 0.2950\n",
      "Epoch 35/50\n",
      "11/11 [==============================] - 0s 5ms/step - loss: 0.0585 - mae: 0.1637 - val_loss: 0.1885 - val_mae: 0.2935\n",
      "Epoch 36/50\n",
      "11/11 [==============================] - 0s 4ms/step - loss: 0.0557 - mae: 0.1628 - val_loss: 0.1790 - val_mae: 0.2943\n",
      "Epoch 37/50\n",
      "11/11 [==============================] - 0s 4ms/step - loss: 0.0614 - mae: 0.1698 - val_loss: 0.1910 - val_mae: 0.2909\n",
      "Epoch 38/50\n",
      "11/11 [==============================] - 0s 5ms/step - loss: 0.0534 - mae: 0.1590 - val_loss: 0.1779 - val_mae: 0.2915\n",
      "Epoch 39/50\n",
      "11/11 [==============================] - 0s 5ms/step - loss: 0.0535 - mae: 0.1556 - val_loss: 0.1885 - val_mae: 0.2864\n",
      "Epoch 40/50\n",
      "11/11 [==============================] - 0s 4ms/step - loss: 0.0551 - mae: 0.1587 - val_loss: 0.1788 - val_mae: 0.2892\n",
      "Epoch 41/50\n",
      "11/11 [==============================] - 0s 4ms/step - loss: 0.0549 - mae: 0.1643 - val_loss: 0.1684 - val_mae: 0.2878\n",
      "Epoch 42/50\n",
      "11/11 [==============================] - 0s 4ms/step - loss: 0.0616 - mae: 0.1682 - val_loss: 0.2072 - val_mae: 0.3074\n",
      "Epoch 43/50\n",
      "11/11 [==============================] - 0s 5ms/step - loss: 0.0585 - mae: 0.1783 - val_loss: 0.1730 - val_mae: 0.2914\n",
      "Epoch 44/50\n",
      "11/11 [==============================] - 0s 5ms/step - loss: 0.0584 - mae: 0.1691 - val_loss: 0.1899 - val_mae: 0.2955\n",
      "Epoch 45/50\n",
      "11/11 [==============================] - 0s 4ms/step - loss: 0.0504 - mae: 0.1545 - val_loss: 0.1710 - val_mae: 0.2871\n",
      "Epoch 46/50\n",
      "11/11 [==============================] - 0s 5ms/step - loss: 0.0526 - mae: 0.1590 - val_loss: 0.1675 - val_mae: 0.2760\n",
      "Epoch 47/50\n",
      "11/11 [==============================] - 0s 4ms/step - loss: 0.0465 - mae: 0.1485 - val_loss: 0.1579 - val_mae: 0.2755\n",
      "Epoch 48/50\n",
      "11/11 [==============================] - 0s 4ms/step - loss: 0.0482 - mae: 0.1486 - val_loss: 0.1892 - val_mae: 0.2872\n",
      "Epoch 49/50\n",
      "11/11 [==============================] - 0s 5ms/step - loss: 0.0516 - mae: 0.1610 - val_loss: 0.1624 - val_mae: 0.2816\n",
      "Epoch 50/50\n",
      "11/11 [==============================] - 0s 5ms/step - loss: 0.0495 - mae: 0.1559 - val_loss: 0.1863 - val_mae: 0.2991\n"
     ]
    }
   ],
   "source": [
    "history = model.fit(x_train, y_train, epochs=50, batch_size=32, validation_split=0.2, verbose=1)\n"
   ]
  },
  {
   "cell_type": "code",
   "execution_count": 9,
   "id": "7748f475",
   "metadata": {},
   "outputs": [
    {
     "name": "stdout",
     "output_type": "stream",
     "text": [
      "4/4 - 0s - loss: 0.2491 - mae: 0.3336 - 25ms/epoch - 6ms/step\n",
      "\n",
      "Test Mean Absolute Error: 0.333634614944458\n"
     ]
    }
   ],
   "source": [
    "test_loss, test_mae = model.evaluate(x_test, y_test, verbose=2)\n",
    "print(\"\\nTest Mean Absolute Error:\", test_mae)\n"
   ]
  },
  {
   "cell_type": "code",
   "execution_count": 10,
   "id": "82b65332",
   "metadata": {},
   "outputs": [
    {
     "name": "stdout",
     "output_type": "stream",
     "text": [
      "4/4 [==============================] - 0s 2ms/step\n"
     ]
    }
   ],
   "source": [
    "predictions = model.predict(x_test)\n"
   ]
  },
  {
   "cell_type": "code",
   "execution_count": 11,
   "id": "f8f31b27",
   "metadata": {},
   "outputs": [],
   "source": [
    "predictions = y_scaler.inverse_transform(predictions).reshape(-1)\n"
   ]
  },
  {
   "cell_type": "code",
   "execution_count": 12,
   "id": "0a9baa97",
   "metadata": {},
   "outputs": [
    {
     "data": {
      "text/plain": [
       "array([11.23865 , 18.147223, 21.494719, 29.737562, 25.830675, 23.33624 ,\n",
       "       30.012333, 23.156212, 19.748714, 20.144365, 16.248295, 18.4958  ,\n",
       "       17.108467, 40.426758, 23.564348, 22.18673 , 26.25419 , 23.295391,\n",
       "       19.92466 , 38.028873, 13.355713, 13.860285, 22.56889 , 17.368353,\n",
       "       20.28496 , 23.952063, 32.359245, 26.452543, 13.115117, 22.121672,\n",
       "       20.152605, 16.274927, 33.977882, 25.126347, 21.509504,  8.694135,\n",
       "       17.969675, 18.807335, 16.905426, 26.589195, 29.468946, 28.86647 ,\n",
       "       14.908465, 38.22099 , 28.552277, 27.103077, 26.325844, 19.405619,\n",
       "       25.706194, 23.81751 , 33.45826 , 19.939203, 12.585301, 14.912115,\n",
       "       38.814846, 30.029928, 12.878356, 50.461674, 33.973545, 25.176735,\n",
       "       22.76294 , 16.487896, 17.574549, 20.900856, 24.2921  , 21.198679,\n",
       "       14.782299, 23.007492, 10.816119,  9.910773, 37.236053, 30.06881 ,\n",
       "       24.506971, 12.459178, 28.172482, 20.864098, 21.28998 , 25.091822,\n",
       "       35.566093, 11.057688, 23.493147, 39.230904, 15.940323, 13.787031,\n",
       "       19.063917, 20.75832 , 24.334837, 21.226776, 20.4792  , 28.705744,\n",
       "       20.031492, 20.844246, 27.852814, 40.930298, 36.214684, 20.398268,\n",
       "       36.416805, 45.569176, 25.91411 , 42.057655, 33.968586, 20.926104],\n",
       "      dtype=float32)"
      ]
     },
     "execution_count": 12,
     "metadata": {},
     "output_type": "execute_result"
    }
   ],
   "source": [
    "predictions"
   ]
  },
  {
   "cell_type": "code",
   "execution_count": null,
   "id": "81af5ffc",
   "metadata": {},
   "outputs": [],
   "source": []
  },
  {
   "cell_type": "code",
   "execution_count": null,
   "id": "16b904fc",
   "metadata": {},
   "outputs": [],
   "source": []
  },
  {
   "cell_type": "code",
   "execution_count": null,
   "id": "637c20ed",
   "metadata": {},
   "outputs": [],
   "source": []
  },
  {
   "cell_type": "code",
   "execution_count": null,
   "id": "9cf4cde5",
   "metadata": {},
   "outputs": [],
   "source": []
  },
  {
   "cell_type": "code",
   "execution_count": null,
   "id": "9ffac370",
   "metadata": {},
   "outputs": [],
   "source": []
  },
  {
   "cell_type": "code",
   "execution_count": null,
   "id": "57282959",
   "metadata": {},
   "outputs": [],
   "source": []
  },
  {
   "cell_type": "code",
   "execution_count": null,
   "id": "fd9170b3",
   "metadata": {},
   "outputs": [],
   "source": []
  },
  {
   "cell_type": "code",
   "execution_count": null,
   "id": "6390cacb",
   "metadata": {},
   "outputs": [],
   "source": []
  },
  {
   "cell_type": "code",
   "execution_count": null,
   "id": "3914735d",
   "metadata": {},
   "outputs": [],
   "source": []
  },
  {
   "cell_type": "code",
   "execution_count": null,
   "id": "4b796a84",
   "metadata": {},
   "outputs": [],
   "source": []
  },
  {
   "cell_type": "code",
   "execution_count": null,
   "id": "378161b4",
   "metadata": {},
   "outputs": [],
   "source": []
  },
  {
   "cell_type": "code",
   "execution_count": null,
   "id": "256183de",
   "metadata": {},
   "outputs": [],
   "source": []
  },
  {
   "cell_type": "code",
   "execution_count": null,
   "id": "755f2099",
   "metadata": {},
   "outputs": [],
   "source": []
  },
  {
   "cell_type": "code",
   "execution_count": null,
   "id": "7b7685a4",
   "metadata": {},
   "outputs": [],
   "source": []
  },
  {
   "cell_type": "code",
   "execution_count": null,
   "id": "f4567d49",
   "metadata": {},
   "outputs": [],
   "source": []
  },
  {
   "cell_type": "code",
   "execution_count": null,
   "id": "a37925c2",
   "metadata": {},
   "outputs": [],
   "source": []
  },
  {
   "cell_type": "code",
   "execution_count": null,
   "id": "1bac1c88",
   "metadata": {},
   "outputs": [],
   "source": []
  },
  {
   "cell_type": "code",
   "execution_count": null,
   "id": "edebd058",
   "metadata": {},
   "outputs": [],
   "source": []
  },
  {
   "cell_type": "code",
   "execution_count": null,
   "id": "34285569",
   "metadata": {},
   "outputs": [],
   "source": []
  },
  {
   "cell_type": "code",
   "execution_count": null,
   "id": "77570a9e",
   "metadata": {},
   "outputs": [],
   "source": []
  },
  {
   "cell_type": "code",
   "execution_count": null,
   "id": "13b5af6b",
   "metadata": {},
   "outputs": [],
   "source": []
  }
 ],
 "metadata": {
  "kernelspec": {
   "display_name": "Python 3 (ipykernel)",
   "language": "python",
   "name": "python3"
  },
  "language_info": {
   "codemirror_mode": {
    "name": "ipython",
    "version": 3
   },
   "file_extension": ".py",
   "mimetype": "text/x-python",
   "name": "python",
   "nbconvert_exporter": "python",
   "pygments_lexer": "ipython3",
   "version": "3.11.3"
  }
 },
 "nbformat": 4,
 "nbformat_minor": 5
}
